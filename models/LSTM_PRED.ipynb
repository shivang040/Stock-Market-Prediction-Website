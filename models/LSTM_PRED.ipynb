{
 "cells": [
  {
   "cell_type": "code",
   "execution_count": 1,
   "metadata": {},
   "outputs": [
    {
     "name": "stderr",
     "output_type": "stream",
     "text": [
      "Using TensorFlow backend.\n"
     ]
    }
   ],
   "source": [
    "import numpy as np\n",
    "import pandas as pd\n",
    "from keras.layers.core import Dense, Activation, Dropout\n",
    "from keras.layers.recurrent import LSTM\n",
    "from keras.models import Sequential\n",
    "import time\n",
    "import datetime as dt\n",
    "import urllib.request\n",
    "import json\n",
    "import os\n",
    "from sklearn.preprocessing import StandardScaler, MinMaxScaler\n",
    "from sklearn.metrics import mean_squared_error"
   ]
  },
  {
   "cell_type": "code",
   "execution_count": 2,
   "metadata": {},
   "outputs": [
    {
     "name": "stdout",
     "output_type": "stream",
     "text": [
      "File already exists. Loading data from CSV\n"
     ]
    }
   ],
   "source": [
    "data_source = 'alphavantage'\n",
    "tick = \"AMZN\"\n",
    "\n",
    "if data_source == 'alphavantage':\n",
    "    # ====================== Loading Data from Alpha Vantage ==================================\n",
    "\n",
    "    api_key = '7TONQ8CM5PXZ4YEO'\n",
    "\n",
    "    # TCS stock market prices\n",
    "    ticker = tick\n",
    "\n",
    "    # JSON file with all the stock market data for TCS\n",
    "    url_string = \"https://www.alphavantage.co/query?function=TIME_SERIES_DAILY&symbol=%s&outputsize=full&apikey=%s\" % (\n",
    "        ticker, api_key)\n",
    "\n",
    "    # Save data to this file\n",
    "    file_to_save = 'stock_market_data-%s.csv' % ticker\n",
    "\n",
    "    # If you haven't already saved data,\n",
    "    # Go ahead and grab the data from the url\n",
    "    # And store date, low, high, volume, close, open values to a Pandas DataFrame\n",
    "    if not os.path.exists(file_to_save):\n",
    "        with urllib.request.urlopen(url_string) as url:\n",
    "            data = json.loads(url.read().decode())\n",
    "            # extract stock market data\n",
    "            data = data['Time Series (Daily)']\n",
    "            df = pd.DataFrame(\n",
    "                columns=['Date', 'Low', 'High', 'Close', 'Open'])\n",
    "            for k, v in data.items():\n",
    "                date = dt.datetime.strptime(k, '%Y-%m-%d')\n",
    "                data_row = [date.date(), float(v['3. low']), float(v['2. high']),\n",
    "                            float(v['4. close']), float(v['1. open'])]\n",
    "                df.loc[-1, :] = data_row\n",
    "                df.index = df.index + 1\n",
    "        print('Data saved to : %s' % file_to_save)\n",
    "        df.to_csv(file_to_save)\n",
    "\n",
    "    # If the data is already there, just load it from the CSV\n",
    "    else:\n",
    "        print('File already exists. Loading data from CSV')\n",
    "        df = pd.read_csv(file_to_save)\n"
   ]
  },
  {
   "cell_type": "code",
   "execution_count": 3,
   "metadata": {},
   "outputs": [],
   "source": [
    "file_name = \"stock_market_data-\" + tick + \".csv\"\n",
    "df = pd.read_csv(file_name)\n",
    "\n",
    "df = df[['Date', 'Open', 'Close', 'Low', 'High']]\n",
    "\n",
    "df = df.sort_values('Date')\n",
    "\n",
    "high_prices = df.loc[:, 'High']\n",
    "low_prices = df.loc[:, 'Low']\n",
    "df[\"Mid Prices\"] = (high_prices + low_prices) / 2.0\n"
   ]
  },
  {
   "cell_type": "code",
   "execution_count": 4,
   "metadata": {},
   "outputs": [
    {
     "data": {
      "text/html": [
       "<div>\n",
       "<style scoped>\n",
       "    .dataframe tbody tr th:only-of-type {\n",
       "        vertical-align: middle;\n",
       "    }\n",
       "\n",
       "    .dataframe tbody tr th {\n",
       "        vertical-align: top;\n",
       "    }\n",
       "\n",
       "    .dataframe thead th {\n",
       "        text-align: right;\n",
       "    }\n",
       "</style>\n",
       "<table border=\"1\" class=\"dataframe\">\n",
       "  <thead>\n",
       "    <tr style=\"text-align: right;\">\n",
       "      <th></th>\n",
       "      <th>Date</th>\n",
       "      <th>Open</th>\n",
       "      <th>Close</th>\n",
       "      <th>Low</th>\n",
       "      <th>High</th>\n",
       "      <th>Mid Prices</th>\n",
       "    </tr>\n",
       "  </thead>\n",
       "  <tbody>\n",
       "    <tr>\n",
       "      <th>5259</th>\n",
       "      <td>1998-01-02</td>\n",
       "      <td>60.00</td>\n",
       "      <td>59.50</td>\n",
       "      <td>57.56</td>\n",
       "      <td>60.00</td>\n",
       "      <td>58.780</td>\n",
       "    </tr>\n",
       "    <tr>\n",
       "      <th>5258</th>\n",
       "      <td>1998-01-05</td>\n",
       "      <td>58.63</td>\n",
       "      <td>57.00</td>\n",
       "      <td>56.50</td>\n",
       "      <td>59.25</td>\n",
       "      <td>57.875</td>\n",
       "    </tr>\n",
       "    <tr>\n",
       "      <th>5257</th>\n",
       "      <td>1998-01-06</td>\n",
       "      <td>56.38</td>\n",
       "      <td>58.06</td>\n",
       "      <td>56.00</td>\n",
       "      <td>58.50</td>\n",
       "      <td>57.250</td>\n",
       "    </tr>\n",
       "    <tr>\n",
       "      <th>5256</th>\n",
       "      <td>1998-01-07</td>\n",
       "      <td>58.00</td>\n",
       "      <td>57.38</td>\n",
       "      <td>56.31</td>\n",
       "      <td>58.00</td>\n",
       "      <td>57.155</td>\n",
       "    </tr>\n",
       "    <tr>\n",
       "      <th>5255</th>\n",
       "      <td>1998-01-08</td>\n",
       "      <td>56.38</td>\n",
       "      <td>55.38</td>\n",
       "      <td>54.38</td>\n",
       "      <td>56.44</td>\n",
       "      <td>55.410</td>\n",
       "    </tr>\n",
       "  </tbody>\n",
       "</table>\n",
       "</div>"
      ],
      "text/plain": [
       "            Date   Open  Close    Low   High  Mid Prices\n",
       "5259  1998-01-02  60.00  59.50  57.56  60.00      58.780\n",
       "5258  1998-01-05  58.63  57.00  56.50  59.25      57.875\n",
       "5257  1998-01-06  56.38  58.06  56.00  58.50      57.250\n",
       "5256  1998-01-07  58.00  57.38  56.31  58.00      57.155\n",
       "5255  1998-01-08  56.38  55.38  54.38  56.44      55.410"
      ]
     },
     "execution_count": 4,
     "metadata": {},
     "output_type": "execute_result"
    }
   ],
   "source": [
    "df.head()"
   ]
  },
  {
   "cell_type": "code",
   "execution_count": 5,
   "metadata": {},
   "outputs": [
    {
     "data": {
      "text/html": [
       "<div>\n",
       "<style scoped>\n",
       "    .dataframe tbody tr th:only-of-type {\n",
       "        vertical-align: middle;\n",
       "    }\n",
       "\n",
       "    .dataframe tbody tr th {\n",
       "        vertical-align: top;\n",
       "    }\n",
       "\n",
       "    .dataframe thead th {\n",
       "        text-align: right;\n",
       "    }\n",
       "</style>\n",
       "<table border=\"1\" class=\"dataframe\">\n",
       "  <thead>\n",
       "    <tr style=\"text-align: right;\">\n",
       "      <th></th>\n",
       "      <th>Date</th>\n",
       "      <th>Open</th>\n",
       "      <th>Close</th>\n",
       "      <th>Low</th>\n",
       "      <th>High</th>\n",
       "      <th>Mid Prices</th>\n",
       "    </tr>\n",
       "  </thead>\n",
       "  <tbody>\n",
       "    <tr>\n",
       "      <th>4</th>\n",
       "      <td>2018-11-19</td>\n",
       "      <td>1577.01</td>\n",
       "      <td>1512.29</td>\n",
       "      <td>1503.36</td>\n",
       "      <td>1581.19</td>\n",
       "      <td>1542.275</td>\n",
       "    </tr>\n",
       "    <tr>\n",
       "      <th>3</th>\n",
       "      <td>2018-11-20</td>\n",
       "      <td>1437.50</td>\n",
       "      <td>1495.46</td>\n",
       "      <td>1420.00</td>\n",
       "      <td>1534.75</td>\n",
       "      <td>1477.375</td>\n",
       "    </tr>\n",
       "    <tr>\n",
       "      <th>2</th>\n",
       "      <td>2018-11-21</td>\n",
       "      <td>1542.99</td>\n",
       "      <td>1516.73</td>\n",
       "      <td>1515.00</td>\n",
       "      <td>1550.00</td>\n",
       "      <td>1532.500</td>\n",
       "    </tr>\n",
       "    <tr>\n",
       "      <th>1</th>\n",
       "      <td>2018-11-23</td>\n",
       "      <td>1517.00</td>\n",
       "      <td>1502.06</td>\n",
       "      <td>1501.81</td>\n",
       "      <td>1536.20</td>\n",
       "      <td>1519.005</td>\n",
       "    </tr>\n",
       "    <tr>\n",
       "      <th>0</th>\n",
       "      <td>2018-11-26</td>\n",
       "      <td>1539.00</td>\n",
       "      <td>1581.33</td>\n",
       "      <td>1524.22</td>\n",
       "      <td>1584.81</td>\n",
       "      <td>1554.515</td>\n",
       "    </tr>\n",
       "  </tbody>\n",
       "</table>\n",
       "</div>"
      ],
      "text/plain": [
       "         Date     Open    Close      Low     High  Mid Prices\n",
       "4  2018-11-19  1577.01  1512.29  1503.36  1581.19    1542.275\n",
       "3  2018-11-20  1437.50  1495.46  1420.00  1534.75    1477.375\n",
       "2  2018-11-21  1542.99  1516.73  1515.00  1550.00    1532.500\n",
       "1  2018-11-23  1517.00  1502.06  1501.81  1536.20    1519.005\n",
       "0  2018-11-26  1539.00  1581.33  1524.22  1584.81    1554.515"
      ]
     },
     "execution_count": 5,
     "metadata": {},
     "output_type": "execute_result"
    }
   ],
   "source": [
    "df.tail()"
   ]
  },
  {
   "cell_type": "code",
   "execution_count": 6,
   "metadata": {},
   "outputs": [],
   "source": [
    "df.drop(\"Date\", axis=1, inplace=True)"
   ]
  },
  {
   "cell_type": "markdown",
   "metadata": {},
   "source": [
    "Most recent 2018-11-23"
   ]
  },
  {
   "cell_type": "code",
   "execution_count": 7,
   "metadata": {},
   "outputs": [
    {
     "data": {
      "text/html": [
       "<div>\n",
       "<style scoped>\n",
       "    .dataframe tbody tr th:only-of-type {\n",
       "        vertical-align: middle;\n",
       "    }\n",
       "\n",
       "    .dataframe tbody tr th {\n",
       "        vertical-align: top;\n",
       "    }\n",
       "\n",
       "    .dataframe thead th {\n",
       "        text-align: right;\n",
       "    }\n",
       "</style>\n",
       "<table border=\"1\" class=\"dataframe\">\n",
       "  <thead>\n",
       "    <tr style=\"text-align: right;\">\n",
       "      <th></th>\n",
       "      <th>Open</th>\n",
       "      <th>Close</th>\n",
       "      <th>Low</th>\n",
       "      <th>High</th>\n",
       "      <th>Mid Prices</th>\n",
       "    </tr>\n",
       "  </thead>\n",
       "  <tbody>\n",
       "    <tr>\n",
       "      <th>4</th>\n",
       "      <td>1577.01</td>\n",
       "      <td>1512.29</td>\n",
       "      <td>1503.36</td>\n",
       "      <td>1581.19</td>\n",
       "      <td>1542.275</td>\n",
       "    </tr>\n",
       "    <tr>\n",
       "      <th>3</th>\n",
       "      <td>1437.50</td>\n",
       "      <td>1495.46</td>\n",
       "      <td>1420.00</td>\n",
       "      <td>1534.75</td>\n",
       "      <td>1477.375</td>\n",
       "    </tr>\n",
       "    <tr>\n",
       "      <th>2</th>\n",
       "      <td>1542.99</td>\n",
       "      <td>1516.73</td>\n",
       "      <td>1515.00</td>\n",
       "      <td>1550.00</td>\n",
       "      <td>1532.500</td>\n",
       "    </tr>\n",
       "    <tr>\n",
       "      <th>1</th>\n",
       "      <td>1517.00</td>\n",
       "      <td>1502.06</td>\n",
       "      <td>1501.81</td>\n",
       "      <td>1536.20</td>\n",
       "      <td>1519.005</td>\n",
       "    </tr>\n",
       "    <tr>\n",
       "      <th>0</th>\n",
       "      <td>1539.00</td>\n",
       "      <td>1581.33</td>\n",
       "      <td>1524.22</td>\n",
       "      <td>1584.81</td>\n",
       "      <td>1554.515</td>\n",
       "    </tr>\n",
       "  </tbody>\n",
       "</table>\n",
       "</div>"
      ],
      "text/plain": [
       "      Open    Close      Low     High  Mid Prices\n",
       "4  1577.01  1512.29  1503.36  1581.19    1542.275\n",
       "3  1437.50  1495.46  1420.00  1534.75    1477.375\n",
       "2  1542.99  1516.73  1515.00  1550.00    1532.500\n",
       "1  1517.00  1502.06  1501.81  1536.20    1519.005\n",
       "0  1539.00  1581.33  1524.22  1584.81    1554.515"
      ]
     },
     "execution_count": 7,
     "metadata": {},
     "output_type": "execute_result"
    }
   ],
   "source": [
    "df.tail()"
   ]
  },
  {
   "cell_type": "code",
   "execution_count": 8,
   "metadata": {},
   "outputs": [],
   "source": [
    "def load_data(stock, seq_len):\n",
    "    amount_of_features = 5\n",
    "    data = stock\n",
    "    sequence_length = seq_len + 1\n",
    "    result = []\n",
    "    for index in range(len(data) - sequence_length):\n",
    "        result.append(data[index: index + sequence_length])\n",
    "\n",
    "    result = np.array(result)\n",
    "    row = round(0.75 * result.shape[0])\n",
    "    train = result[:int(row), :]\n",
    "    x_train = train[:, :-1]\n",
    "    y_train = train[:, -1][:, -1]\n",
    "    x_test = result[int(row):, :-1]\n",
    "    y_test = result[int(row):, -1][:, -1]\n",
    "\n",
    "    x_train = np.reshape(\n",
    "        x_train, (x_train.shape[0], x_train.shape[1], amount_of_features))\n",
    "    x_test = np.reshape(\n",
    "        x_test, (x_test.shape[0], x_test.shape[1], amount_of_features))\n",
    "\n",
    "    return [x_train, y_train, x_test, y_test]\n"
   ]
  },
  {
   "cell_type": "code",
   "execution_count": 9,
   "metadata": {},
   "outputs": [],
   "source": [
    "df1 = df\n",
    "df = df.values"
   ]
  },
  {
   "cell_type": "code",
   "execution_count": 10,
   "metadata": {},
   "outputs": [],
   "source": [
    "scaler = MinMaxScaler()\n",
    "df = scaler.fit_transform(df)"
   ]
  },
  {
   "cell_type": "code",
   "execution_count": 11,
   "metadata": {},
   "outputs": [],
   "source": [
    "window = 5\n",
    "X_train, y_train, X_test, y_test = load_data(df, window)"
   ]
  },
  {
   "cell_type": "code",
   "execution_count": 12,
   "metadata": {},
   "outputs": [
    {
     "data": {
      "text/plain": [
       "(3940, 5, 5)"
      ]
     },
     "execution_count": 12,
     "metadata": {},
     "output_type": "execute_result"
    }
   ],
   "source": [
    "X_train.shape"
   ]
  },
  {
   "cell_type": "code",
   "execution_count": 13,
   "metadata": {},
   "outputs": [],
   "source": [
    "x_latest = df[-5:]"
   ]
  },
  {
   "cell_type": "code",
   "execution_count": 14,
   "metadata": {},
   "outputs": [],
   "source": [
    "x_latest = np.reshape(x_latest, (1, x_latest.shape[0], window))"
   ]
  },
  {
   "cell_type": "code",
   "execution_count": 15,
   "metadata": {},
   "outputs": [
    {
     "data": {
      "text/html": [
       "<div>\n",
       "<style scoped>\n",
       "    .dataframe tbody tr th:only-of-type {\n",
       "        vertical-align: middle;\n",
       "    }\n",
       "\n",
       "    .dataframe tbody tr th {\n",
       "        vertical-align: top;\n",
       "    }\n",
       "\n",
       "    .dataframe thead th {\n",
       "        text-align: right;\n",
       "    }\n",
       "</style>\n",
       "<table border=\"1\" class=\"dataframe\">\n",
       "  <thead>\n",
       "    <tr style=\"text-align: right;\">\n",
       "      <th></th>\n",
       "      <th>Open</th>\n",
       "      <th>Close</th>\n",
       "      <th>Low</th>\n",
       "      <th>High</th>\n",
       "      <th>Mid Prices</th>\n",
       "    </tr>\n",
       "  </thead>\n",
       "  <tbody>\n",
       "    <tr>\n",
       "      <th>count</th>\n",
       "      <td>5260.000000</td>\n",
       "      <td>5260.000000</td>\n",
       "      <td>5260.000000</td>\n",
       "      <td>5260.000000</td>\n",
       "      <td>5260.000000</td>\n",
       "    </tr>\n",
       "    <tr>\n",
       "      <th>mean</th>\n",
       "      <td>263.410676</td>\n",
       "      <td>263.370409</td>\n",
       "      <td>259.887271</td>\n",
       "      <td>266.583351</td>\n",
       "      <td>263.235311</td>\n",
       "    </tr>\n",
       "    <tr>\n",
       "      <th>std</th>\n",
       "      <td>385.650533</td>\n",
       "      <td>385.262014</td>\n",
       "      <td>381.286909</td>\n",
       "      <td>388.985337</td>\n",
       "      <td>385.120210</td>\n",
       "    </tr>\n",
       "    <tr>\n",
       "      <th>min</th>\n",
       "      <td>5.910000</td>\n",
       "      <td>5.970000</td>\n",
       "      <td>5.510000</td>\n",
       "      <td>6.100000</td>\n",
       "      <td>5.805000</td>\n",
       "    </tr>\n",
       "    <tr>\n",
       "      <th>25%</th>\n",
       "      <td>41.467500</td>\n",
       "      <td>41.622500</td>\n",
       "      <td>40.850000</td>\n",
       "      <td>42.500000</td>\n",
       "      <td>41.653750</td>\n",
       "    </tr>\n",
       "    <tr>\n",
       "      <th>50%</th>\n",
       "      <td>92.525000</td>\n",
       "      <td>92.390000</td>\n",
       "      <td>90.335000</td>\n",
       "      <td>94.490000</td>\n",
       "      <td>92.647500</td>\n",
       "    </tr>\n",
       "    <tr>\n",
       "      <th>75%</th>\n",
       "      <td>298.205000</td>\n",
       "      <td>297.997500</td>\n",
       "      <td>295.260000</td>\n",
       "      <td>301.810000</td>\n",
       "      <td>298.361250</td>\n",
       "    </tr>\n",
       "    <tr>\n",
       "      <th>max</th>\n",
       "      <td>2038.110000</td>\n",
       "      <td>2039.510000</td>\n",
       "      <td>2013.000000</td>\n",
       "      <td>2050.500000</td>\n",
       "      <td>2031.750000</td>\n",
       "    </tr>\n",
       "  </tbody>\n",
       "</table>\n",
       "</div>"
      ],
      "text/plain": [
       "              Open        Close          Low         High   Mid Prices\n",
       "count  5260.000000  5260.000000  5260.000000  5260.000000  5260.000000\n",
       "mean    263.410676   263.370409   259.887271   266.583351   263.235311\n",
       "std     385.650533   385.262014   381.286909   388.985337   385.120210\n",
       "min       5.910000     5.970000     5.510000     6.100000     5.805000\n",
       "25%      41.467500    41.622500    40.850000    42.500000    41.653750\n",
       "50%      92.525000    92.390000    90.335000    94.490000    92.647500\n",
       "75%     298.205000   297.997500   295.260000   301.810000   298.361250\n",
       "max    2038.110000  2039.510000  2013.000000  2050.500000  2031.750000"
      ]
     },
     "execution_count": 15,
     "metadata": {},
     "output_type": "execute_result"
    }
   ],
   "source": [
    "df1.describe()"
   ]
  },
  {
   "cell_type": "code",
   "execution_count": 16,
   "metadata": {},
   "outputs": [],
   "source": [
    "def build_model(layers):\n",
    "    model = Sequential()\n",
    "\n",
    "    model.add(LSTM(\n",
    "        input_shape=(None, layers[0]),\n",
    "        units=25,\n",
    "        return_sequences=True))\n",
    "    model.add(Dropout(0.2))\n",
    "\n",
    "    model.add(LSTM(\n",
    "        100,\n",
    "        return_sequences=False))\n",
    "    model.add(Dropout(0.2))\n",
    "\n",
    "    model.add(Dense(\n",
    "        units=1))\n",
    "    model.add(Activation('linear'))\n",
    "\n",
    "    start = time.time()\n",
    "    model.compile(loss='mse', optimizer='rmsprop')\n",
    "    print('compilation time : ', time.time() - start)\n",
    "    return model\n"
   ]
  },
  {
   "cell_type": "code",
   "execution_count": 17,
   "metadata": {},
   "outputs": [
    {
     "name": "stdout",
     "output_type": "stream",
     "text": [
      "compilation time :  0.020708322525024414\n",
      "Train on 3546 samples, validate on 394 samples\n",
      "Epoch 1/25\n",
      "3546/3546 [==============================] - 1s 412us/step - loss: 7.3342e-04 - val_loss: 0.0021\n",
      "Epoch 2/25\n",
      "3546/3546 [==============================] - 0s 82us/step - loss: 2.5914e-04 - val_loss: 0.0011\n",
      "Epoch 3/25\n",
      "3546/3546 [==============================] - 0s 78us/step - loss: 9.3110e-05 - val_loss: 6.3104e-05\n",
      "Epoch 4/25\n",
      "3546/3546 [==============================] - 0s 85us/step - loss: 1.2802e-04 - val_loss: 2.3485e-04\n",
      "Epoch 5/25\n",
      "3546/3546 [==============================] - 0s 86us/step - loss: 7.2795e-05 - val_loss: 5.0874e-05\n",
      "Epoch 6/25\n",
      "3546/3546 [==============================] - 0s 79us/step - loss: 9.0717e-05 - val_loss: 1.9059e-04\n",
      "Epoch 7/25\n",
      "3546/3546 [==============================] - 0s 82us/step - loss: 7.8009e-05 - val_loss: 3.4712e-05\n",
      "Epoch 8/25\n",
      "3546/3546 [==============================] - 0s 78us/step - loss: 7.5800e-05 - val_loss: 1.4463e-04\n",
      "Epoch 9/25\n",
      "3546/3546 [==============================] - 0s 78us/step - loss: 7.8796e-05 - val_loss: 5.7574e-05\n",
      "Epoch 10/25\n",
      "3546/3546 [==============================] - 0s 84us/step - loss: 6.9739e-05 - val_loss: 1.3787e-04\n",
      "Epoch 11/25\n",
      "3546/3546 [==============================] - 0s 80us/step - loss: 7.7642e-05 - val_loss: 1.9959e-05\n",
      "Epoch 12/25\n",
      "3546/3546 [==============================] - 0s 89us/step - loss: 5.1223e-05 - val_loss: 2.1180e-04\n",
      "Epoch 13/25\n",
      "3546/3546 [==============================] - 0s 80us/step - loss: 9.2049e-05 - val_loss: 2.0737e-05\n",
      "Epoch 14/25\n",
      "3546/3546 [==============================] - 0s 82us/step - loss: 4.3424e-05 - val_loss: 1.0104e-04\n",
      "Epoch 15/25\n",
      "3546/3546 [==============================] - 0s 82us/step - loss: 7.9056e-05 - val_loss: 5.4237e-05\n",
      "Epoch 16/25\n",
      "3546/3546 [==============================] - 0s 88us/step - loss: 5.1050e-05 - val_loss: 2.4900e-04\n",
      "Epoch 17/25\n",
      "3546/3546 [==============================] - 0s 78us/step - loss: 6.3384e-05 - val_loss: 7.2816e-05\n",
      "Epoch 18/25\n",
      "3546/3546 [==============================] - 0s 80us/step - loss: 6.5527e-05 - val_loss: 1.0859e-04\n",
      "Epoch 19/25\n",
      "3546/3546 [==============================] - 0s 89us/step - loss: 4.1705e-05 - val_loss: 8.8801e-05\n",
      "Epoch 20/25\n",
      "3546/3546 [==============================] - 0s 82us/step - loss: 7.5242e-05 - val_loss: 3.5657e-05\n",
      "Epoch 21/25\n",
      "3546/3546 [==============================] - 0s 80us/step - loss: 4.7919e-05 - val_loss: 6.0494e-05\n",
      "Epoch 22/25\n",
      "3546/3546 [==============================] - 0s 81us/step - loss: 5.7771e-05 - val_loss: 5.3581e-05\n",
      "Epoch 23/25\n",
      "3546/3546 [==============================] - 0s 80us/step - loss: 6.0477e-05 - val_loss: 4.4367e-05\n",
      "Epoch 24/25\n",
      "3546/3546 [==============================] - 0s 88us/step - loss: 4.6105e-05 - val_loss: 1.0175e-04\n",
      "Epoch 25/25\n",
      "3546/3546 [==============================] - 0s 83us/step - loss: 5.8201e-05 - val_loss: 1.7499e-05\n"
     ]
    },
    {
     "data": {
      "text/plain": [
       "<keras.callbacks.History at 0x7f232a4ceba8>"
      ]
     },
     "execution_count": 17,
     "metadata": {},
     "output_type": "execute_result"
    }
   ],
   "source": [
    "model = build_model([5, window, 1])\n",
    "\n",
    "model.fit(\n",
    "    X_train,\n",
    "    y_train,\n",
    "    batch_size=512,\n",
    "    epochs=25,\n",
    "    validation_split=0.1,\n",
    "    verbose=1)"
   ]
  },
  {
   "cell_type": "code",
   "execution_count": 18,
   "metadata": {},
   "outputs": [],
   "source": [
    "trainScore = model.evaluate(X_train, y_train, verbose=0)\n",
    "\n",
    "# Predictions\n",
    "\n",
    "p = model.predict(X_test)\n",
    "\n",
    "mse_scaled = mean_squared_error(y_test, p)\n",
    "\n",
    "# in case want to display accuracy use\n",
    "# return(p, y_test, accuracy_train, accuracy_test)\n",
    "p = np.reshape(p, p.shape[0]).tolist()\n",
    "y_test = np.reshape(y_test, y_test.shape[0]).tolist()\n",
    "\n",
    "def delete_stock_data(file_name):\n",
    "    if os.path.exists(file_name):\n",
    "        os.remove(file_name)\n",
    "        print(\"File removed successfully\")\n",
    "    else:\n",
    "        print(\"The file does not exist\")\n",
    "\n",
    "# delete_stock_data(file_name)"
   ]
  },
  {
   "cell_type": "code",
   "execution_count": 19,
   "metadata": {},
   "outputs": [
    {
     "data": {
      "text/plain": [
       "2.383506445021524e-05"
      ]
     },
     "execution_count": 19,
     "metadata": {},
     "output_type": "execute_result"
    }
   ],
   "source": [
    "trainScore"
   ]
  },
  {
   "cell_type": "code",
   "execution_count": 20,
   "metadata": {},
   "outputs": [
    {
     "name": "stdout",
     "output_type": "stream",
     "text": [
      "0.0008234004644287568\n"
     ]
    }
   ],
   "source": [
    "print(mse_scaled)"
   ]
  },
  {
   "cell_type": "code",
   "execution_count": 21,
   "metadata": {},
   "outputs": [],
   "source": [
    "p_latest = model.predict(x_latest)\n",
    "p.append(p_latest[0,0])"
   ]
  },
  {
   "cell_type": "code",
   "execution_count": 22,
   "metadata": {},
   "outputs": [],
   "source": [
    "def inverse_minmax(x, maxval, minval):\n",
    "    return (x*(maxval-minval)+minval)"
   ]
  },
  {
   "cell_type": "code",
   "execution_count": 23,
   "metadata": {},
   "outputs": [],
   "source": [
    "maxval = max(df1['Mid Prices'])\n",
    "minval = min(df1['Mid Prices'])"
   ]
  },
  {
   "cell_type": "code",
   "execution_count": 24,
   "metadata": {},
   "outputs": [],
   "source": [
    "p = [inverse_minmax(y, maxval, minval) for y in p]\n",
    "y_test = [inverse_minmax(y, maxval, minval) for y in y_test]"
   ]
  },
  {
   "cell_type": "code",
   "execution_count": 25,
   "metadata": {
    "scrolled": false
   },
   "outputs": [
    {
     "data": {
      "image/png": "[encoded data removed]",
      "text/plain": [
       "<Figure size 1296x648 with 1 Axes>"
      ]
     },
     "metadata": {
      "needs_background": "light"
     },
     "output_type": "display_data"
    }
   ],
   "source": [
    "%matplotlib inline\n",
    "import matplotlib.pyplot as plt2\n",
    "plt2.figure(figsize = (18,9))\n",
    "plt2.plot(p,color='red', label='prediction')\n",
    "plt2.plot(y_test,color='blue', label='y_test')\n",
    "plt2.legend(loc='upper left')\n",
    "plt2.show()"
   ]
  },
  {
   "cell_type": "code",
   "execution_count": 26,
   "metadata": {},
   "outputs": [
    {
     "name": "stdout",
     "output_type": "stream",
     "text": [
      "58.13440138328471\n"
     ]
    }
   ],
   "source": [
    "from math import sqrt\n",
    "mse = mean_squared_error(y_test, p[:-1])\n",
    "rmse = sqrt(mse)\n",
    "print (rmse)"
   ]
  }
 ],
 "metadata": {
  "kernelspec": {
   "display_name": "Python 3",
   "language": "python",
   "name": "python3"
  },
  "language_info": {
   "codemirror_mode": {
    "name": "ipython",
    "version": 3
   },
   "file_extension": ".py",
   "mimetype": "text/x-python",
   "name": "python",
   "nbconvert_exporter": "python",
   "pygments_lexer": "ipython3",
   "version": "3.6.7"
  }
 },
 "nbformat": 4,
 "nbformat_minor": 2
}
