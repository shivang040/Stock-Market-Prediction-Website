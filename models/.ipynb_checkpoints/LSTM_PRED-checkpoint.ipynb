{
 "cells": [
  {
   "cell_type": "code",
   "execution_count": 39,
   "metadata": {},
   "outputs": [],
   "source": [
    "import numpy as np\n",
    "import pandas as pd\n",
    "from keras.layers.core import Dense, Activation, Dropout\n",
    "from keras.layers.recurrent import LSTM\n",
    "from keras.models import Sequential\n",
    "import time\n",
    "import datetime as dt\n",
    "import urllib.request\n",
    "import json\n",
    "import os\n",
    "from sklearn.preprocessing import StandardScaler, MinMaxScaler\n",
    "from sklearn.metrics import mean_squared_error"
   ]
  },
  {
   "cell_type": "code",
   "execution_count": 2,
   "metadata": {},
   "outputs": [
    {
     "name": "stdout",
     "output_type": "stream",
     "text": [
      "File already exists. Loading data from CSV\n"
     ]
    }
   ],
   "source": [
    "data_source = 'alphavantage'\n",
    "tick = \"TCS\"\n",
    "\n",
    "if data_source == 'alphavantage':\n",
    "    # ====================== Loading Data from Alpha Vantage ==================================\n",
    "\n",
    "    api_key = '7TONQ8CM5PXZ4YEO'\n",
    "\n",
    "    # TCS stock market prices\n",
    "    ticker = tick\n",
    "\n",
    "    # JSON file with all the stock market data for TCS\n",
    "    url_string = \"https://www.alphavantage.co/query?function=TIME_SERIES_DAILY&symbol=%s&outputsize=full&apikey=%s\" % (\n",
    "        ticker, api_key)\n",
    "\n",
    "    # Save data to this file\n",
    "    file_to_save = 'stock_market_data-%s.csv' % ticker\n",
    "\n",
    "    # If you haven't already saved data,\n",
    "    # Go ahead and grab the data from the url\n",
    "    # And store date, low, high, volume, close, open values to a Pandas DataFrame\n",
    "    if not os.path.exists(file_to_save):\n",
    "        with urllib.request.urlopen(url_string) as url:\n",
    "            data = json.loads(url.read().decode())\n",
    "            # extract stock market data\n",
    "            data = data['Time Series (Daily)']\n",
    "            df = pd.DataFrame(\n",
    "                columns=['Date', 'Low', 'High', 'Close', 'Open'])\n",
    "            for k, v in data.items():\n",
    "                date = dt.datetime.strptime(k, '%Y-%m-%d')\n",
    "                data_row = [date.date(), float(v['3. low']), float(v['2. high']),\n",
    "                            float(v['4. close']), float(v['1. open'])]\n",
    "                df.loc[-1, :] = data_row\n",
    "                df.index = df.index + 1\n",
    "        print('Data saved to : %s' % file_to_save)\n",
    "        df.to_csv(file_to_save)\n",
    "\n",
    "    # If the data is already there, just load it from the CSV\n",
    "    else:\n",
    "        print('File already exists. Loading data from CSV')\n",
    "        df = pd.read_csv(file_to_save)\n"
   ]
  },
  {
   "cell_type": "code",
   "execution_count": 3,
   "metadata": {},
   "outputs": [],
   "source": [
    "file_name = \"stock_market_data-\" + tick + \".csv\"\n",
    "df = pd.read_csv(file_name)\n",
    "\n",
    "df = df[['Date', 'Open', 'Close', 'Low', 'High']]\n",
    "\n",
    "df = df.sort_values('Date')\n",
    "\n",
    "high_prices = df.loc[:, 'High']\n",
    "low_prices = df.loc[:, 'Low']\n",
    "df[\"Mid Prices\"] = (high_prices + low_prices) / 2.0\n",
    "\n",
    "df.drop(\"Date\", axis=1, inplace=True)\n"
   ]
  },
  {
   "cell_type": "markdown",
   "metadata": {},
   "source": [
    "Most recent 2018-11-23"
   ]
  },
  {
   "cell_type": "code",
   "execution_count": 4,
   "metadata": {},
   "outputs": [
    {
     "data": {
      "text/html": [
       "<div>\n",
       "<style scoped>\n",
       "    .dataframe tbody tr th:only-of-type {\n",
       "        vertical-align: middle;\n",
       "    }\n",
       "\n",
       "    .dataframe tbody tr th {\n",
       "        vertical-align: top;\n",
       "    }\n",
       "\n",
       "    .dataframe thead th {\n",
       "        text-align: right;\n",
       "    }\n",
       "</style>\n",
       "<table border=\"1\" class=\"dataframe\">\n",
       "  <thead>\n",
       "    <tr style=\"text-align: right;\">\n",
       "      <th></th>\n",
       "      <th>Open</th>\n",
       "      <th>Close</th>\n",
       "      <th>Low</th>\n",
       "      <th>High</th>\n",
       "      <th>Mid Prices</th>\n",
       "    </tr>\n",
       "  </thead>\n",
       "  <tbody>\n",
       "    <tr>\n",
       "      <th>4</th>\n",
       "      <td>5.94</td>\n",
       "      <td>5.73</td>\n",
       "      <td>5.535</td>\n",
       "      <td>5.95</td>\n",
       "      <td>5.7425</td>\n",
       "    </tr>\n",
       "    <tr>\n",
       "      <th>3</th>\n",
       "      <td>5.71</td>\n",
       "      <td>5.64</td>\n",
       "      <td>5.600</td>\n",
       "      <td>5.84</td>\n",
       "      <td>5.7200</td>\n",
       "    </tr>\n",
       "    <tr>\n",
       "      <th>2</th>\n",
       "      <td>5.51</td>\n",
       "      <td>5.56</td>\n",
       "      <td>5.360</td>\n",
       "      <td>5.64</td>\n",
       "      <td>5.5000</td>\n",
       "    </tr>\n",
       "    <tr>\n",
       "      <th>1</th>\n",
       "      <td>5.60</td>\n",
       "      <td>5.75</td>\n",
       "      <td>5.530</td>\n",
       "      <td>5.77</td>\n",
       "      <td>5.6500</td>\n",
       "    </tr>\n",
       "    <tr>\n",
       "      <th>0</th>\n",
       "      <td>5.69</td>\n",
       "      <td>5.65</td>\n",
       "      <td>5.620</td>\n",
       "      <td>5.77</td>\n",
       "      <td>5.6950</td>\n",
       "    </tr>\n",
       "  </tbody>\n",
       "</table>\n",
       "</div>"
      ],
      "text/plain": [
       "   Open  Close    Low  High  Mid Prices\n",
       "4  5.94   5.73  5.535  5.95      5.7425\n",
       "3  5.71   5.64  5.600  5.84      5.7200\n",
       "2  5.51   5.56  5.360  5.64      5.5000\n",
       "1  5.60   5.75  5.530  5.77      5.6500\n",
       "0  5.69   5.65  5.620  5.77      5.6950"
      ]
     },
     "execution_count": 4,
     "metadata": {},
     "output_type": "execute_result"
    }
   ],
   "source": [
    "df.tail()"
   ]
  },
  {
   "cell_type": "code",
   "execution_count": 5,
   "metadata": {},
   "outputs": [
    {
     "data": {
      "text/plain": [
       "(1275, 5)"
      ]
     },
     "execution_count": 5,
     "metadata": {},
     "output_type": "execute_result"
    }
   ],
   "source": [
    "df.shape"
   ]
  },
  {
   "cell_type": "code",
   "execution_count": 6,
   "metadata": {},
   "outputs": [],
   "source": [
    "def load_data(stock, seq_len):\n",
    "    amount_of_features = 5\n",
    "    data = stock\n",
    "    sequence_length = seq_len + 1\n",
    "    result = []\n",
    "    for index in range(len(data) - sequence_length):\n",
    "        result.append(data[index: index + sequence_length])\n",
    "\n",
    "    result = np.array(result)\n",
    "    row = round(0.75 * result.shape[0])\n",
    "    train = result[:int(row), :]\n",
    "    x_train = train[:, :-1]\n",
    "    y_train = train[:, -1][:, -1]\n",
    "    x_test = result[int(row):, :-1]\n",
    "    y_test = result[int(row):, -1][:, -1]\n",
    "\n",
    "    x_train = np.reshape(\n",
    "        x_train, (x_train.shape[0], x_train.shape[1], amount_of_features))\n",
    "    x_test = np.reshape(\n",
    "        x_test, (x_test.shape[0], x_test.shape[1], amount_of_features))\n",
    "\n",
    "    return [x_train, y_train, x_test, y_test]\n"
   ]
  },
  {
   "cell_type": "code",
   "execution_count": 13,
   "metadata": {},
   "outputs": [],
   "source": [
    "df1 = df\n",
    "df = df.values"
   ]
  },
  {
   "cell_type": "code",
   "execution_count": 42,
   "metadata": {},
   "outputs": [],
   "source": [
    "scaler = MinMaxScaler()\n",
    "df = scaler.fit_transform(df)"
   ]
  },
  {
   "cell_type": "code",
   "execution_count": 43,
   "metadata": {},
   "outputs": [],
   "source": [
    "window = 5\n",
    "X_train, y_train, X_test, y_test = load_data(df, window)"
   ]
  },
  {
   "cell_type": "code",
   "execution_count": 45,
   "metadata": {},
   "outputs": [
    {
     "data": {
      "text/html": [
       "<div>\n",
       "<style scoped>\n",
       "    .dataframe tbody tr th:only-of-type {\n",
       "        vertical-align: middle;\n",
       "    }\n",
       "\n",
       "    .dataframe tbody tr th {\n",
       "        vertical-align: top;\n",
       "    }\n",
       "\n",
       "    .dataframe thead th {\n",
       "        text-align: right;\n",
       "    }\n",
       "</style>\n",
       "<table border=\"1\" class=\"dataframe\">\n",
       "  <thead>\n",
       "    <tr style=\"text-align: right;\">\n",
       "      <th></th>\n",
       "      <th>Open</th>\n",
       "      <th>Close</th>\n",
       "      <th>Low</th>\n",
       "      <th>High</th>\n",
       "      <th>Mid Prices</th>\n",
       "    </tr>\n",
       "  </thead>\n",
       "  <tbody>\n",
       "    <tr>\n",
       "      <th>count</th>\n",
       "      <td>1275.000000</td>\n",
       "      <td>1275.000000</td>\n",
       "      <td>1275.000000</td>\n",
       "      <td>1275.000000</td>\n",
       "      <td>1275.000000</td>\n",
       "    </tr>\n",
       "    <tr>\n",
       "      <th>mean</th>\n",
       "      <td>13.156808</td>\n",
       "      <td>13.132157</td>\n",
       "      <td>12.840747</td>\n",
       "      <td>13.442216</td>\n",
       "      <td>13.141482</td>\n",
       "    </tr>\n",
       "    <tr>\n",
       "      <th>std</th>\n",
       "      <td>10.331883</td>\n",
       "      <td>10.279513</td>\n",
       "      <td>10.069223</td>\n",
       "      <td>10.504556</td>\n",
       "      <td>10.285317</td>\n",
       "    </tr>\n",
       "    <tr>\n",
       "      <th>min</th>\n",
       "      <td>3.550000</td>\n",
       "      <td>3.560000</td>\n",
       "      <td>3.530000</td>\n",
       "      <td>3.690000</td>\n",
       "      <td>3.610000</td>\n",
       "    </tr>\n",
       "    <tr>\n",
       "      <th>25%</th>\n",
       "      <td>5.300000</td>\n",
       "      <td>5.300000</td>\n",
       "      <td>5.190000</td>\n",
       "      <td>5.393000</td>\n",
       "      <td>5.282250</td>\n",
       "    </tr>\n",
       "    <tr>\n",
       "      <th>50%</th>\n",
       "      <td>7.890000</td>\n",
       "      <td>7.910000</td>\n",
       "      <td>7.680000</td>\n",
       "      <td>8.210000</td>\n",
       "      <td>7.930000</td>\n",
       "    </tr>\n",
       "    <tr>\n",
       "      <th>75%</th>\n",
       "      <td>18.705000</td>\n",
       "      <td>18.720000</td>\n",
       "      <td>18.462600</td>\n",
       "      <td>19.140000</td>\n",
       "      <td>18.742500</td>\n",
       "    </tr>\n",
       "    <tr>\n",
       "      <th>max</th>\n",
       "      <td>46.870000</td>\n",
       "      <td>46.610000</td>\n",
       "      <td>45.600000</td>\n",
       "      <td>47.070000</td>\n",
       "      <td>46.335000</td>\n",
       "    </tr>\n",
       "  </tbody>\n",
       "</table>\n",
       "</div>"
      ],
      "text/plain": [
       "              Open        Close          Low         High   Mid Prices\n",
       "count  1275.000000  1275.000000  1275.000000  1275.000000  1275.000000\n",
       "mean     13.156808    13.132157    12.840747    13.442216    13.141482\n",
       "std      10.331883    10.279513    10.069223    10.504556    10.285317\n",
       "min       3.550000     3.560000     3.530000     3.690000     3.610000\n",
       "25%       5.300000     5.300000     5.190000     5.393000     5.282250\n",
       "50%       7.890000     7.910000     7.680000     8.210000     7.930000\n",
       "75%      18.705000    18.720000    18.462600    19.140000    18.742500\n",
       "max      46.870000    46.610000    45.600000    47.070000    46.335000"
      ]
     },
     "execution_count": 45,
     "metadata": {},
     "output_type": "execute_result"
    }
   ],
   "source": [
    "df1.describe()"
   ]
  },
  {
   "cell_type": "code",
   "execution_count": 41,
   "metadata": {},
   "outputs": [],
   "source": [
    "# scaler_y.fit_transform(y_test)\n",
    "# scaler_y.fit_transform(y_train)"
   ]
  },
  {
   "cell_type": "code",
   "execution_count": 49,
   "metadata": {},
   "outputs": [
    {
     "data": {
      "text/plain": [
       "array([[0.72599261, 0.75818815, 0.67910625, 0.76786538, 0.72416618],\n",
       "       [0.76754386, 0.73844367, 0.74067031, 0.76325496, 0.75213575],\n",
       "       [0.72853186, 0.73844367, 0.74378417, 0.73328723, 0.73845524],\n",
       "       ...,\n",
       "       [0.04524469, 0.04645761, 0.04349893, 0.04495159, 0.0442364 ],\n",
       "       [0.04732225, 0.05087108, 0.04753981, 0.04794836, 0.04774722],\n",
       "       [0.04939982, 0.0485482 , 0.04967911, 0.04794836, 0.04880047]])"
      ]
     },
     "execution_count": 49,
     "metadata": {},
     "output_type": "execute_result"
    }
   ],
   "source": [
    "df"
   ]
  },
  {
   "cell_type": "code",
   "execution_count": 50,
   "metadata": {},
   "outputs": [
    {
     "data": {
      "text/plain": [
       "(1275, 5)"
      ]
     },
     "execution_count": 50,
     "metadata": {},
     "output_type": "execute_result"
    }
   ],
   "source": [
    "df.shape"
   ]
  },
  {
   "cell_type": "code",
   "execution_count": 51,
   "metadata": {},
   "outputs": [],
   "source": [
    "def build_model(layers):\n",
    "    model = Sequential()\n",
    "\n",
    "    model.add(LSTM(\n",
    "        input_shape=(None, layers[0]),\n",
    "        units=50,\n",
    "        return_sequences=True))\n",
    "    model.add(Dropout(0.2))\n",
    "\n",
    "    model.add(LSTM(\n",
    "        100,\n",
    "        return_sequences=False))\n",
    "    model.add(Dropout(0.2))\n",
    "\n",
    "    model.add(Dense(\n",
    "        units=1))\n",
    "    model.add(Activation('linear'))\n",
    "\n",
    "    start = time.time()\n",
    "    model.compile(loss='mse', optimizer='rmsprop')\n",
    "    print('compilation time : ', time.time() - start)\n",
    "    return model\n"
   ]
  },
  {
   "cell_type": "code",
   "execution_count": 52,
   "metadata": {},
   "outputs": [
    {
     "name": "stdout",
     "output_type": "stream",
     "text": [
      "compilation time :  0.020702123641967773\n",
      "Train on 856 samples, validate on 96 samples\n",
      "Epoch 1/15\n",
      "856/856 [==============================] - 1s 2ms/step - loss: 0.1298 - val_loss: 0.0021\n",
      "Epoch 2/15\n",
      "856/856 [==============================] - 0s 140us/step - loss: 0.0311 - val_loss: 0.0086\n",
      "Epoch 3/15\n",
      "856/856 [==============================] - 0s 127us/step - loss: 0.0069 - val_loss: 0.0072\n",
      "Epoch 4/15\n",
      "856/856 [==============================] - 0s 131us/step - loss: 0.0048 - val_loss: 0.0050\n",
      "Epoch 5/15\n",
      "856/856 [==============================] - 0s 117us/step - loss: 0.0038 - val_loss: 0.0033\n",
      "Epoch 6/15\n",
      "856/856 [==============================] - 0s 133us/step - loss: 0.0027 - val_loss: 0.0020\n",
      "Epoch 7/15\n",
      "856/856 [==============================] - 0s 119us/step - loss: 0.0029 - val_loss: 0.0011\n",
      "Epoch 8/15\n",
      "856/856 [==============================] - 0s 136us/step - loss: 0.0022 - val_loss: 5.9112e-04\n",
      "Epoch 9/15\n",
      "856/856 [==============================] - 0s 122us/step - loss: 0.0026 - val_loss: 1.7868e-04\n",
      "Epoch 10/15\n",
      "856/856 [==============================] - 0s 137us/step - loss: 0.0041 - val_loss: 9.5939e-05\n",
      "Epoch 11/15\n",
      "856/856 [==============================] - 0s 116us/step - loss: 0.0038 - val_loss: 1.4223e-04\n",
      "Epoch 12/15\n",
      "856/856 [==============================] - 0s 133us/step - loss: 0.0027 - val_loss: 9.8889e-05\n",
      "Epoch 13/15\n",
      "856/856 [==============================] - 0s 119us/step - loss: 0.0034 - val_loss: 6.9736e-05\n",
      "Epoch 14/15\n",
      "856/856 [==============================] - 0s 134us/step - loss: 0.0038 - val_loss: 6.7064e-05\n",
      "Epoch 15/15\n",
      "856/856 [==============================] - 0s 121us/step - loss: 0.0038 - val_loss: 6.5634e-05\n"
     ]
    },
    {
     "data": {
      "text/plain": [
       "<keras.callbacks.History at 0x7f35e6e59780>"
      ]
     },
     "execution_count": 52,
     "metadata": {},
     "output_type": "execute_result"
    }
   ],
   "source": [
    "model = build_model([5, window, 1])\n",
    "\n",
    "model.fit(\n",
    "    X_train,\n",
    "    y_train,\n",
    "    batch_size=512,\n",
    "    epochs=15,\n",
    "    validation_split=0.1,\n",
    "    verbose=1)"
   ]
  },
  {
   "cell_type": "code",
   "execution_count": 53,
   "metadata": {},
   "outputs": [],
   "source": [
    "trainScore = model.evaluate(X_train, y_train, verbose=0)\n",
    "\n",
    "accuracy_train = (1 - trainScore) * 100\n",
    "\n",
    "# Predictions\n",
    "\n",
    "p = model.predict(X_test)\n",
    "\n",
    "mse = mean_squared_error(y_test, p)\n",
    "\n",
    "accuracy_test = (1 - mse) * 100\n",
    "\n",
    "# in case want to display accuracy use\n",
    "# return(p, y_test, accuracy_train, accuracy_test)\n",
    "p = np.reshape(p, p.shape[0]).tolist()\n",
    "y_test = np.reshape(y_test, y_test.shape[0]).tolist()\n",
    "\n",
    "def delete_stock_data(file_name):\n",
    "    if os.path.exists(file_name):\n",
    "        os.remove(file_name)\n",
    "        print(\"File removed successfully\")\n",
    "    else:\n",
    "        print(\"The file does not exist\")\n",
    "\n",
    "# delete_stock_data(file_name)"
   ]
  },
  {
   "cell_type": "code",
   "execution_count": 54,
   "metadata": {},
   "outputs": [
    {
     "data": {
      "text/plain": [
       "0.0027060264535578448"
      ]
     },
     "execution_count": 54,
     "metadata": {},
     "output_type": "execute_result"
    }
   ],
   "source": [
    "trainScore"
   ]
  },
  {
   "cell_type": "code",
   "execution_count": 60,
   "metadata": {},
   "outputs": [],
   "source": [
    "def inverse_minmax(x, maxval, minval):\n",
    "    return (x*(maxval-minval)+minval)"
   ]
  },
  {
   "cell_type": "code",
   "execution_count": 73,
   "metadata": {},
   "outputs": [],
   "source": [
    "maxval = max(df1['Mid Prices'])\n",
    "minval = min(df1['Mid Prices'])"
   ]
  },
  {
   "cell_type": "code",
   "execution_count": 78,
   "metadata": {},
   "outputs": [],
   "source": [
    "p = [inverse_minmax(y, maxval, minval) for y in p]\n",
    "y_test = [inverse_minmax(y, maxval, minval) for y in y_test]"
   ]
  },
  {
   "cell_type": "code",
   "execution_count": 79,
   "metadata": {},
   "outputs": [
    {
     "data": {
      "image/png": "[encoded data removed]",
      "text/plain": [
       "<Figure size 1296x648 with 1 Axes>"
      ]
     },
     "metadata": {
      "needs_background": "light"
     },
     "output_type": "display_data"
    }
   ],
   "source": [
    "%matplotlib inline\n",
    "import matplotlib.pyplot as plt2\n",
    "plt2.figure(figsize = (18,9))\n",
    "plt2.plot(p,color='red', label='prediction')\n",
    "plt2.plot(y_test,color='blue', label='y_test')\n",
    "plt2.legend(loc='upper left')\n",
    "plt2.show()"
   ]
  }
 ],
 "metadata": {
  "kernelspec": {
   "display_name": "Python 3",
   "language": "python",
   "name": "python3"
  },
  "language_info": {
   "codemirror_mode": {
    "name": "ipython",
    "version": 3
   },
   "file_extension": ".py",
   "mimetype": "text/x-python",
   "name": "python",
   "nbconvert_exporter": "python",
   "pygments_lexer": "ipython3",
   "version": "3.6.7"
  }
 },
 "nbformat": 4,
 "nbformat_minor": 2
}
